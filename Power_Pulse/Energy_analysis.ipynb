import pandas as pd
import numpy as np
import matplotlib.pyplot as plt
import seaborn as sns 
# scikit-learn
from sklearn.model_selection import train_test_split
from sklearn.ensemble import RandomForestRegressor
from sklearn.metrics import mean_absolute_error, mean_squared_error
from sklearn.impute import SimpleImputer
import joblib

def main():
    # Load and preprocess data
    df = pd.read_csv("D:\Data_Science\VS_Code Projects\Power_Pulse\household_power_consumption.txt", sep=';',low_memory=False, na_values=['?'])

    df['DateTime'] = pd.to_datetime(df['Date'] + ' ' + df['Time'], dayfirst=True, format='%d/%m/%Y %H:%M:%S')
    df = df.drop(['Date', 'Time'], axis=1)

    # Handle missing values
    imputer = SimpleImputer(strategy='median')
    # Select only numeric columns using data types
    numeric_cols = df.select_dtypes(include=[np.number]).columns.tolist()
    df[numeric_cols] = imputer.fit_transform(df[numeric_cols])

    # Feature engineering
    df['Hour'] = df['DateTime'].dt.hour
    df['DayOfWeek'] = df['DateTime'].dt.dayofweek
    df['Month'] = df['DateTime'].dt.month

    # EDA and save plots
    print("\nData Summary:")
    print(df.describe())

    plt.figure(figsize=(12,8))
    sns.pairplot(df[['Global_active_power', 'Global_reactive_power',
                   'Voltage', 'Global_intensity']])
    plt.savefig('eda_pairplot.png')
    plt.close()

    # Modeling
    X = df.drop(['DateTime', 'Global_active_power'], axis=1)
    y = df['Global_active_power']
    X_train, X_test, y_train, y_test = train_test_split(X, y,
                                                       test_size=0.2,
                                                       random_state=42)

    # Train model
    model = RandomForestRegressor(n_estimators=100, random_state=42)
    model.fit(X_train, y_train)

    # Evaluate
    predictions = model.predict(X_test)
    print(f'\nMAE: {mean_absolute_error(y_test, predictions):.2f}')
    print(f'RMSE: {np.sqrt(mean_squared_error(y_test, predictions)):.2f}')
    print(f'R²: {model.score(X_test, y_test):.2f}')

    # Feature importance visualization
    plt.figure(figsize=(10,6))
    features = X.columns
    importances = model.feature_importances_
    indices = np.argsort(importances)[::-1]

    plt.title('Feature Importance')
    plt.barh(range(len(indices)), importances[indices], align='center')
    plt.yticks(range(len(indices)), [features[i] for i in indices])
    plt.gca().invert_yaxis()
    plt.savefig('feature_importance.png')
    plt.close()

    # Save model
    joblib.dump(model, 'power_consumption_model.pkl')
    print("\nModel saved to power_consumption_model.pkl")

if __name__ == "__main__":
    main()